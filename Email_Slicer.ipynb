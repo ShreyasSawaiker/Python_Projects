{
 "cells": [
  {
   "cell_type": "markdown",
   "id": "6d652788",
   "metadata": {},
   "source": [
    "## Slicer Algorithm"
   ]
  },
  {
   "cell_type": "code",
   "execution_count": 5,
   "id": "f2cfe9ee",
   "metadata": {},
   "outputs": [
    {
     "name": "stdout",
     "output_type": "stream",
     "text": [
      "Enter the email addresses:lalitsharma@gmail.com rajnaik@yahoo.com lpuonline@lpu.co.in\n",
      "username: lalitsharma and domain: @gmail.com\n",
      "username: rajnaik and domain: @yahoo.com\n",
      "username: lpuonline and domain: @lpu.co.in\n"
     ]
    }
   ],
   "source": [
    "email = str(input(\"Enter the email addresses:\")) #take email input\n",
    "emaills = email.lower().split() #store that input in list and lower all the string characters.\n",
    "username = []   #Empty list to store multiple username inputs\n",
    "domain = []     ##Empty list to store multiple domain inputs\n",
    "\n",
    "for i in range(0,len(emaills)):  #1st Loop to go through the email list\n",
    "    userstr = \"\"\n",
    "    domainstr = \"\"\n",
    "    pos = 0\n",
    "    \n",
    "    for j in range(0,len(emaills[i])): #2nd loop to go through the elements of the email list\n",
    "        if(emaills[i][j] != '@'):\n",
    "            userstr += emaills[i][j]   #adding elemts to userstring until @ is found\n",
    "            pos = j+1                  #storing the position at which @ is present\n",
    "        else:\n",
    "            break\n",
    "    username.append(userstr)  #apending user name to user list\n",
    "    \n",
    "    for k in range(pos,len(emaills[i])): #3rd loop to go through the found @ position to last position in the element\n",
    "        domainstr += emaills[i][k]       #adding elemts to domainstring after @ is found\n",
    "        \n",
    "    domain.append(domainstr)   #apending domain string name to domain list\n",
    "\n",
    "for l in range(0,len(username)): #4th loop to go through the user list and domain list and print the results.\n",
    "    print(\"username:\",username[l],\"and domain:\",domain[l])"
   ]
  },
  {
   "cell_type": "markdown",
   "id": "ddb6d988",
   "metadata": {},
   "source": [
    "## Converting it into Function"
   ]
  },
  {
   "cell_type": "code",
   "execution_count": 7,
   "id": "6dbe175b",
   "metadata": {},
   "outputs": [],
   "source": [
    "def email_slicer(emaills):\n",
    "    username = []\n",
    "    domain = []\n",
    "    for i in range(0,len(emaills)):\n",
    "        userstr = \"\"\n",
    "        domainstr = \"\"\n",
    "        pos = 0\n",
    "        for j in range(0,len(emaills[i])):\n",
    "            if(emaills[i][j] != '@'):\n",
    "                userstr += emaills[i][j]\n",
    "                pos = j+1\n",
    "            else:\n",
    "                break\n",
    "        username.append(userstr)\n",
    "        \n",
    "        for k in range(pos,len(emaills[i])):\n",
    "            domainstr += emaills[i][k]\n",
    "        domain.append(domainstr)\n",
    "\n",
    "    listlen = len(emaills)\n",
    "    for l in range(0,listlen):\n",
    "        print(\"username:\",username[l],\"and domain:\",domain[l])"
   ]
  },
  {
   "cell_type": "markdown",
   "id": "d8c682bd",
   "metadata": {},
   "source": [
    "## Function Execution"
   ]
  },
  {
   "cell_type": "code",
   "execution_count": 8,
   "id": "71a2751c",
   "metadata": {},
   "outputs": [
    {
     "name": "stdout",
     "output_type": "stream",
     "text": [
      "Enter the email addresses:lalitsarma@yahoo.com anuragchauhan@gmail.com sitnasuss@outlook.com sumitkumar@lpu.co.in sachinandey@bing.com\n",
      "username: lalitsarma and domain: @yahoo.com\n",
      "username: anuragchauhan and domain: @gmail.com\n",
      "username: sitnasuss and domain: @outlook.com\n",
      "username: sumitkumar and domain: @lpu.co.in\n",
      "username: sachinandey and domain: @bing.com\n"
     ]
    }
   ],
   "source": [
    "email = str(input(\"Enter the email addresses:\")) #take email input\n",
    "emaills = email.lower().split() #store that input in list\n",
    "email_slicer(emaills) #fucntion Call"
   ]
  },
  {
   "cell_type": "code",
   "execution_count": null,
   "id": "50554b38",
   "metadata": {},
   "outputs": [],
   "source": []
  }
 ],
 "metadata": {
  "kernelspec": {
   "display_name": "Python 3 (ipykernel)",
   "language": "python",
   "name": "python3"
  },
  "language_info": {
   "codemirror_mode": {
    "name": "ipython",
    "version": 3
   },
   "file_extension": ".py",
   "mimetype": "text/x-python",
   "name": "python",
   "nbconvert_exporter": "python",
   "pygments_lexer": "ipython3",
   "version": "3.9.12"
  }
 },
 "nbformat": 4,
 "nbformat_minor": 5
}
